{
 "cells": [
  {
   "cell_type": "markdown",
   "id": "57809579",
   "metadata": {},
   "source": [
    "***Q1. What is Abstraction in OOps? Explain with an example.***\n",
    "* Abstraction in python is defined as a process of handling complexity by hiding unnecessary information from the user. This is one of the core concepts of object-oriented programming (OOP) languages."
   ]
  },
  {
   "cell_type": "code",
   "execution_count": 2,
   "id": "9727dad3",
   "metadata": {},
   "outputs": [],
   "source": [
    "#Example\n",
    "def any_abstract_method():\n",
    "    pass"
   ]
  },
  {
   "cell_type": "markdown",
   "id": "4188251e",
   "metadata": {},
   "source": [
    "#### Q2. Differentiate between Abstraction and Encapsulation. Explain with an example."
   ]
  },
  {
   "cell_type": "raw",
   "id": "dd8f0a45",
   "metadata": {},
   "source": [
    "1.Abstraction is the process or method of gaining the information.\n",
    "1.While encapsulation is the process or method to contain the information.\n",
    "2.In abstraction, problems are solved at the design or interface level.\n",
    "2.While in encapsulation, problems are solved at the implementation level.\n",
    "3.Abstraction is the method of hiding the unwanted information.\n",
    "3.Whereas encapsulation is a method to hide the data in a single entity or unit along with a method to protect information from outside.\n",
    "4.We can implement abstraction using abstract class and interfaces.\n",
    "4.Whereas encapsulation can be implemented using by access modifier i.e. private, protected and public.\n",
    "5.In abstraction, implementation complexities are hidden using abstract classes and interfaces.\n",
    "5.While in encapsulation, the data is hidden using methods of getters and setters.\n",
    "6.The objects that help to perform abstraction are encapsulated.\n",
    "6.Whereas the objects that result in encapsulation need not be abstracted.\n",
    "7.Abstraction provides access to specific part of data.\n",
    "7.Encapsulation hides data and the user can not access same directly (data hiding.\n",
    "8.Abstraction focus is on “what” should be done.\n",
    "8.Encapsulation focus is on “How” it should be done.\n"
   ]
  },
  {
   "cell_type": "markdown",
   "id": "4601becf",
   "metadata": {},
   "source": [
    "#### Q3. What is abc module in python? Why is it used?"
   ]
  },
  {
   "cell_type": "markdown",
   "id": "533b94a2",
   "metadata": {},
   "source": [
    "* The 'abc' module in Python library provides the infrastructure for defining custom abstract base classes. 'abc' works by marking methods of the base class as abstract. This is done by @absttractmethod decorator."
   ]
  },
  {
   "cell_type": "markdown",
   "id": "a6c6eb62",
   "metadata": {},
   "source": [
    "#### Q4. How can we achieve data abstraction?"
   ]
  },
  {
   "cell_type": "markdown",
   "id": "ee40ae09",
   "metadata": {},
   "source": [
    "* Data abstraction in Python can be done using the following methods: - Using list comprehensions to transform multiple values into a single value - Using map function to transform multiple values into an array - Using filter function to transform only those items that meet certain criteria - Using reduce function to combine two or more items into a single value Abstractions allow developers to write code without worrying about how the code will be executed on the computer."
   ]
  },
  {
   "cell_type": "markdown",
   "id": "4357be35",
   "metadata": {},
   "source": [
    "#### Q5. Can we create an instance of an abstract class? Explain your answer."
   ]
  },
  {
   "cell_type": "markdown",
   "id": "e4e5c338",
   "metadata": {},
   "source": [
    "* You can not create an instance of an abstract class. You can create an instance of a class that extents your abstract class. The whole point of an abstract class is that it's abstract -- you've defined an interface but not an implementation."
   ]
  },
  {
   "cell_type": "code",
   "execution_count": null,
   "id": "eff17bc7",
   "metadata": {},
   "outputs": [],
   "source": []
  }
 ],
 "metadata": {
  "kernelspec": {
   "display_name": "Python 3 (ipykernel)",
   "language": "python",
   "name": "python3"
  },
  "language_info": {
   "codemirror_mode": {
    "name": "ipython",
    "version": 3
   },
   "file_extension": ".py",
   "mimetype": "text/x-python",
   "name": "python",
   "nbconvert_exporter": "python",
   "pygments_lexer": "ipython3",
   "version": "3.9.12"
  }
 },
 "nbformat": 4,
 "nbformat_minor": 5
}
