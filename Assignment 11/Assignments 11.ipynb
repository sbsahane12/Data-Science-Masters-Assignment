{
 "cells": [
  {
   "cell_type": "raw",
   "id": "81932347",
   "metadata": {},
   "source": [
    "#1.\n",
    "The open() function is used to open a file in Python. It takes the file name and mode as arguments.\n",
    "\n",
    "There are several modes in which a file can be opened in Python:\n",
    "\n",
    "'r' (Read Only): This is the default mode in which the file is opened. The file is opened in read-only mode and cannot be written to. If the file does not exist, an error is raised.\n",
    "\n",
    "'w' (Write Only): The file is opened in write-only mode. If the file already exists, its contents will be overwritten. If the file does not exist, a new file with the specified name will be created.\n",
    "\n",
    "'a' (Append Only): The file is opened in append mode. If the file already exists, new data will be appended to the end of the file. If the file does not exist, a new file with the specified name will be created.\n",
    "\n",
    "'x' (Exclusive Creation): The file is opened in exclusive creation mode. If the file already exists, an error will be raised. If the file does not exist, a new file with the specified name will be created.\n",
    "\n",
    "'b' (Binary Mode): The file is opened in binary mode. This mode is used when reading or writing binary files, such as images or audio files.\n",
    "\n",
    "'t' (Text Mode): The file is opened in text mode. This is the default mode in which text files are opened.\n",
    "It is possible to combine modes when opening a file. For example, to open a file in binary read mode, the mode 'rb' can be used. Similarly"
   ]
  },
  {
   "cell_type": "raw",
   "id": "ab4721c5",
   "metadata": {},
   "source": [
    "#2.\n",
    "The close() function is used to close an open file. When you're done working with a file, it's important to close it so that the operating system can release any resources that were being used by the file, such as memory and file handles.\n",
    "\n",
    "If you don't close a file after you're done with it, the operating system might keep the file open indefinitely, which can lead to resource exhaustion and cause other problems. For example, if you open a file in write mode, any changes you make to the file won't be saved until you close it. If you open a file in read mode, you might not be able to access the file again until you close it.\n",
    "\n",
    "In addition, when you're working with multiple files, it's possible to run into conflicts if you don't close the files you're done with. For example, if you have two processes that are trying to access the same file at the same time, one process might not be able to access the file until the other process closes it.\n",
    "\n",
    "By using the close() function, you can ensure that files are closed when you're done with them, which helps to prevent these types of problems.\n",
    "\n",
    "Note: In Python, you can use the with statement to automatically close a file after you're done with it, so you don't have to worry about expl"
   ]
  },
  {
   "cell_type": "code",
   "execution_count": 1,
   "id": "01c3521c",
   "metadata": {},
   "outputs": [],
   "source": [
    "#3Write a python program to create a text file. Write ‘I want to become a Data Scientist’ in that file. Then \n",
    "#close the file. Open this file and read the content of the file.  \n",
    "with open(\"test.txt\",\"w\") as f:\n",
    "    f.write(\"I want to become a Data Scientist\")\n",
    "    f.close()\n",
    "with open(\"test.txt\",\"r\") as f:\n",
    "    read=f.read() \n",
    "    f.close()"
   ]
  },
  {
   "cell_type": "code",
   "execution_count": 2,
   "id": "5a070ad0",
   "metadata": {},
   "outputs": [
    {
     "data": {
      "text/plain": [
       "'I want to become a Data Scientist'"
      ]
     },
     "execution_count": 2,
     "metadata": {},
     "output_type": "execute_result"
    }
   ],
   "source": [
    "read"
   ]
  },
  {
   "cell_type": "code",
   "execution_count": 3,
   "id": "1cb5f985",
   "metadata": {},
   "outputs": [
    {
     "data": {
      "text/plain": [
       "'Write a python program to create a text file. Write ‘I want to become a Data Scientist’ in that file. Then close the file.Open this file and read the content of the file.'"
      ]
     },
     "execution_count": 3,
     "metadata": {},
     "output_type": "execute_result"
    }
   ],
   "source": [
    "# Q4. Explain the following with python code: read(), readline() and readlines()\n",
    "'''read() is a method in Python that is used to read the entire contents of a file as a string.'''\n",
    "with open(\"test1.txt\",\"w\") as f:\n",
    "    f.write(\"Write a python program to create a text file. Write ‘I want to become a Data Scientist’ in that file. Then close the file.Open this file and read the content of the file.\")\n",
    "    f.close()\n",
    "\n",
    "with open(\"test1.txt\",\"r\") as f:\n",
    "    read=f.read()\n",
    "    f.close()\n",
    "read"
   ]
  },
  {
   "cell_type": "code",
   "execution_count": 4,
   "id": "de9996ea",
   "metadata": {},
   "outputs": [
    {
     "data": {
      "text/plain": [
       "'Write a python program to create a text file. Write ‘I want to become a Data Scientist’ in that file. Then close the file.Open this file and read the content of the file.'"
      ]
     },
     "execution_count": 4,
     "metadata": {},
     "output_type": "execute_result"
    }
   ],
   "source": [
    "'''readline() is another method in Python that is used to read a single line of a file at a time. Here is an example:'''\n",
    "with open(\"test1.txt\",\"r\") as f:\n",
    "    readline=f.readline()\n",
    "    f.close()\n",
    "readline"
   ]
  },
  {
   "cell_type": "code",
   "execution_count": 5,
   "id": "671b72a4",
   "metadata": {},
   "outputs": [
    {
     "name": "stdout",
     "output_type": "stream",
     "text": [
      "Write a python program to create a text file. Write ‘I want to become a Data Scientist’ in that file. Then close the file.Open this file and read the content of the file.\n"
     ]
    }
   ],
   "source": [
    "'''readlines() is another method in Python that is used to read all the lines of a file as a list of strings, where each element of the list represen'''\n",
    "with open(\"test1.txt\",\"r\") as f:\n",
    "    readlines=f.readlines()\n",
    "    for i in readlines:\n",
    "        print(i)"
   ]
  },
  {
   "cell_type": "code",
   "execution_count": 6,
   "id": "ae3eee6c",
   "metadata": {},
   "outputs": [],
   "source": [
    " #5.\n",
    "'''The with statement is used in Python to automatically manage the lifetime of objects such as files. When using with in combination with open(), it ensures that the file is properly closed, even if an exception is raised during the execution of the code block inside the with statement.\n",
    "\n",
    "The advantage of using the with statement and open() together is that it helps to prevent resource leaks in the program. When a file is opened using the open() function, it needs to be properly closed using the close() method to release system resources. However, if an exception is raised during the execution of the code, the file may not be properly closed. The with statement provides a way to ensure that the file is closed automatically, even if an exception is raised.\n",
    "\n",
    "Here is an example to illustrate this:'''\n",
    "try:\n",
    "    f = open(\"test1.txt\", \"r\")\n",
    "    # Read file contents\n",
    "    # Do some processing\n",
    "finally:\n",
    "    f.close()"
   ]
  },
  {
   "cell_type": "code",
   "execution_count": 7,
   "id": "5f66f8bc",
   "metadata": {},
   "outputs": [],
   "source": [
    "# Q6. Explain the write() and writelines() functions. Give a suitable example\n",
    "#'''The write() and writelines() functions are used to write to a file in Python.\n",
    "#The write() function is used to write a string to a file. The string is specified as the argument to the write() function and is written to th\n",
    "with open(\"test2.txt\",\"w\") as f:\n",
    "    f.write(\"The with statement is used in Python to automatically manage the lifetime of objects such as files. When using with in combination with open(), it ensures that the file is properly closed, even if an exception is raised during the execution of the code block inside the with statement.The advantage of using the with statement and open() together is that it helps to prevent resource leaks in the program. When a file is opened using the open() function, it needs to be properly closed using the close() method to release system resources. However, if an exception is raised during the execution of the code, the file may not be properly closed. The with statement provides a way to ensure that the file is closed automatically, even if an exception is raised\")\n",
    "    f.close()"
   ]
  },
  {
   "cell_type": "code",
   "execution_count": 8,
   "id": "2e43407b",
   "metadata": {},
   "outputs": [],
   "source": [
    "#writelines() \n",
    "#The writelines() function is used to write a list of strings to a file. Each string in the list is written to a separate line in the file. The list of strings is\n",
    "with open(\"test2.txt\",\"w\") as f:\n",
    "    f.writelines(\"The with statement is used in Python to automatically manage the lifetime of objects such as files. When using with in combination with open(), it ensures that the file is properly closed, even if an exception is raised during the execution of the code block inside the with statement.The advantage of using the with statement and open() together is that it helps to prevent resource leaks in the program. When a file is opened using the open() function, it needs to be properly closed using the close() method to release system resources. However, if an exception is raised during the execution of the code, the file may not be properly closed. The with statement provides a way to ensure that the file is closed automatically, even if an exception is raised\")\n",
    "    f.close()\n"
   ]
  },
  {
   "cell_type": "code",
   "execution_count": null,
   "id": "20ae8d17",
   "metadata": {},
   "outputs": [],
   "source": []
  }
 ],
 "metadata": {
  "kernelspec": {
   "display_name": "Python 3 (ipykernel)",
   "language": "python",
   "name": "python3"
  },
  "language_info": {
   "codemirror_mode": {
    "name": "ipython",
    "version": 3
   },
   "file_extension": ".py",
   "mimetype": "text/x-python",
   "name": "python",
   "nbconvert_exporter": "python",
   "pygments_lexer": "ipython3",
   "version": "3.9.12"
  }
 },
 "nbformat": 4,
 "nbformat_minor": 5
}
