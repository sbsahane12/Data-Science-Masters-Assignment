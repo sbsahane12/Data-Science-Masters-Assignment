{
 "cells": [
  {
   "cell_type": "code",
   "execution_count": 1,
   "id": "86439027-7b82-4dff-9e9f-2ec3e76737e7",
   "metadata": {},
   "outputs": [
    {
     "name": "stdout",
     "output_type": "stream",
     "text": [
      "0     4\n",
      "1     8\n",
      "2    15\n",
      "3    16\n",
      "4    23\n",
      "5    42\n",
      "dtype: int64\n"
     ]
    }
   ],
   "source": [
    "#1.\n",
    "import pandas as pd\n",
    "\n",
    "# Create a Pandas Series\n",
    "my_series = pd.Series([4, 8, 15, 16, 23, 42])\n",
    "\n",
    "# Print the series\n",
    "print(my_series)\n"
   ]
  },
  {
   "cell_type": "code",
   "execution_count": 2,
   "id": "eaf3ff3e-7ffb-4558-a599-e5fab3f34a7d",
   "metadata": {},
   "outputs": [
    {
     "name": "stdout",
     "output_type": "stream",
     "text": [
      "0     1\n",
      "1     2\n",
      "2     3\n",
      "3     4\n",
      "4     5\n",
      "5     6\n",
      "6     7\n",
      "7     8\n",
      "8     9\n",
      "9    10\n",
      "dtype: int64\n"
     ]
    }
   ],
   "source": [
    "#2.\n",
    "import pandas as pd\n",
    "\n",
    "# Create a list variable\n",
    "my_list = [1, 2, 3, 4, 5, 6, 7, 8, 9, 10]\n",
    "\n",
    "# Convert the list to a Pandas Series\n",
    "my_series = pd.Series(my_list)\n",
    "\n",
    "# Print the series\n",
    "print(my_series)\n"
   ]
  },
  {
   "cell_type": "code",
   "execution_count": 3,
   "id": "08abcc54-4090-4ffb-ab74-42e63cf9b781",
   "metadata": {},
   "outputs": [
    {
     "name": "stdout",
     "output_type": "stream",
     "text": [
      "     Name  Age  Gender\n",
      "0   Alice   25  Female\n",
      "1     Bob   30    Male\n",
      "2  Claire   27  Female\n"
     ]
    }
   ],
   "source": [
    "#3.\n",
    "import pandas as pd\n",
    "\n",
    "# Create a dictionary with the data\n",
    "data = {'Name': ['Alice', 'Bob', 'Claire'],\n",
    "        'Age': [25, 30, 27],\n",
    "        'Gender': ['Female', 'Male', 'Female']}\n",
    "\n",
    "# Create a Pandas DataFrame\n",
    "df = pd.DataFrame(data)\n",
    "\n",
    "# Print the DataFrame\n",
    "print(df)\n"
   ]
  },
  {
   "cell_type": "code",
   "execution_count": 4,
   "id": "379be20a-5020-4f7e-8b6c-9d8ad5cc526a",
   "metadata": {},
   "outputs": [
    {
     "name": "stdout",
     "output_type": "stream",
     "text": [
      "DataFrame:\n",
      "     Name  Age  Gender\n",
      "0   Alice   25  Female\n",
      "1     Bob   30    Male\n",
      "2  Claire   27  Female\n",
      "\n",
      "Series:\n",
      "0     Alice\n",
      "1       Bob\n",
      "2    Claire\n",
      "Name: Name, dtype: object\n"
     ]
    }
   ],
   "source": [
    "#4.\n",
    "'''In Pandas, a DataFrame is a 2-dimensional labeled data structure with columns of potentially different data types. It is similar to a table in a relational database or a spreadsheet in Excel. Each column of a DataFrame is a Pandas Series.\n",
    "\n",
    "A Pandas Series, on the other hand, is a one-dimensional labeled array capable of holding data of any type. It can be seen as a single column of data from a DataFrame.\n",
    "\n",
    "Here's an example to illustrate the difference between a DataFrame and a Series:'''\n",
    "\n",
    "import pandas as pd\n",
    "\n",
    "# Create a dictionary with some data\n",
    "data = {'Name': ['Alice', 'Bob', 'Claire'],\n",
    "        'Age': [25, 30, 27],\n",
    "        'Gender': ['Female', 'Male', 'Female']}\n",
    "\n",
    "# Create a Pandas DataFrame\n",
    "df = pd.DataFrame(data)\n",
    "\n",
    "# Access the 'Name' column as a Series\n",
    "name_series = df['Name']\n",
    "\n",
    "# Print the DataFrame and the Series\n",
    "print('DataFrame:')\n",
    "print(df)\n",
    "print('\\nSeries:')\n",
    "print(name_series)\n"
   ]
  },
  {
   "cell_type": "code",
   "execution_count": 5,
   "id": "542cd74b-edef-467b-812e-d80846efc4b0",
   "metadata": {},
   "outputs": [
    {
     "name": "stdout",
     "output_type": "stream",
     "text": [
      "     Name  Age  Gender\n",
      "0   Alice   25  Female\n",
      "1     Bob   30    Male\n",
      "2  Claire   27  Female\n"
     ]
    }
   ],
   "source": [
    "#5.\n",
    "'''Pandas provides a wide range of functions to manipulate data in a DataFrame. Some common functions include:\n",
    "\n",
    "head() and tail(): used to view the first or last few rows of a DataFrame, respectively.'''\n",
    "import pandas as pd\n",
    "\n",
    "# Create a Pandas DataFrame\n",
    "df = pd.DataFrame({'Name': ['Alice', 'Bob', 'Claire'],\n",
    "                   'Age': [25, 30, 27],\n",
    "                   'Gender': ['Female', 'Male', 'Female']})\n",
    "\n",
    "# View the first few rows of the DataFrame\n",
    "print(df.head())\n"
   ]
  },
  {
   "cell_type": "code",
   "execution_count": 6,
   "id": "ba0f3007-b74f-4bed-8e7c-675b8fb9b574",
   "metadata": {},
   "outputs": [
    {
     "name": "stdout",
     "output_type": "stream",
     "text": [
      "             Age\n",
      "count   3.000000\n",
      "mean   27.333333\n",
      "std     2.516611\n",
      "min    25.000000\n",
      "25%    26.000000\n",
      "50%    27.000000\n",
      "75%    28.500000\n",
      "max    30.000000\n"
     ]
    }
   ],
   "source": [
    "'''describe(): used to get a summary of the statistics (count, mean, standard deviation, etc.) of the DataFrame.'''\n",
    "import pandas as pd\n",
    "\n",
    "# Create a Pandas DataFrame\n",
    "df = pd.DataFrame({'Name': ['Alice', 'Bob', 'Claire'],\n",
    "                   'Age': [25, 30, 27],\n",
    "                   'Gender': ['Female', 'Male', 'Female']})\n",
    "\n",
    "# Get a summary of the statistics of the DataFrame\n",
    "print(df.describe())\n"
   ]
  },
  {
   "cell_type": "code",
   "execution_count": 7,
   "id": "2483da77-e482-4010-af41-767487ae1b51",
   "metadata": {},
   "outputs": [
    {
     "name": "stdout",
     "output_type": "stream",
     "text": [
      "Product\n",
      "A    375\n",
      "B    625\n",
      "Name: Revenue, dtype: int64\n"
     ]
    }
   ],
   "source": [
    "'''groupby(): used to group the DataFrame by one or more columns and perform an aggregate function on each group. For example, you can group a DataFrame of sales by product and compute the total revenue for each product.'''\n",
    "import pandas as pd\n",
    "\n",
    "# Create a Pandas DataFrame of sales\n",
    "sales_df = pd.DataFrame({'Product': ['A', 'B', 'A', 'B', 'A', 'B'],\n",
    "                         'Revenue': [100, 200, 150, 250, 125, 175]})\n",
    "\n",
    "# Group the sales DataFrame by product and compute the total revenue for each product\n",
    "total_revenue = sales_df.groupby('Product')['Revenue'].sum()\n",
    "print(total_revenue)\n"
   ]
  },
  {
   "cell_type": "code",
   "execution_count": 8,
   "id": "3b06eeb3-6c90-4020-bbf7-622b05e3cefd",
   "metadata": {},
   "outputs": [
    {
     "name": "stdout",
     "output_type": "stream",
     "text": [
      "     Name  Age\n",
      "0   Alice   25\n",
      "1     Bob   30\n",
      "2  Claire   27\n"
     ]
    }
   ],
   "source": [
    "#drop(): used to drop a column or row from the DataFrame.\n",
    "import pandas as pd\n",
    "\n",
    "# Create a Pandas DataFrame\n",
    "df = pd.DataFrame({'Name': ['Alice', 'Bob', 'Claire'],\n",
    "                   'Age': [25, 30, 27],\n",
    "                   'Gender': ['Female', 'Male', 'Female']})\n",
    "\n",
    "# Drop the 'Gender' column from the DataFrame\n",
    "df = df.drop('Gender', axis=1)\n",
    "print(df)\n"
   ]
  },
  {
   "cell_type": "code",
   "execution_count": null,
   "id": "e9e2213d-bb59-4b41-9cf2-dde17c5dc2a7",
   "metadata": {},
   "outputs": [],
   "source": [
    "#6.\n",
    "'''Both Series and DataFrame are mutable in nature, which means that you can modify their contents after they are created. A Series can be modified by changing the values of its elements, while a DataFrame can be modified by adding or removing columns or rows, or by changing the values of its elements.\n",
    "\n",
    "However, a Panel is a 3-dimensional data structure in Pandas that is no longer recommended to use as it has been deprecated. Nonetheless, a Panel is also mutable.'''\n"
   ]
  },
  {
   "cell_type": "code",
   "execution_count": 9,
   "id": "30ae2359-23cf-438c-8b2e-2deb2f20f2c8",
   "metadata": {},
   "outputs": [
    {
     "name": "stdout",
     "output_type": "stream",
     "text": [
      "     Name  Age  Gender\n",
      "0   Alice   25  Female\n",
      "1     Bob   30    Male\n",
      "2  Claire   27  Female\n"
     ]
    }
   ],
   "source": [
    "#7.\n",
    "import pandas as pd\n",
    "\n",
    "# Create three Pandas Series for Name, Age and Gender\n",
    "name_series = pd.Series(['Alice', 'Bob', 'Claire'])\n",
    "age_series = pd.Series([25, 30, 27])\n",
    "gender_series = pd.Series(['Female', 'Male', 'Female'])\n",
    "\n",
    "# Combine the three Series into a single DataFrame\n",
    "df = pd.DataFrame({'Name': name_series,\n",
    "                   'Age': age_series,\n",
    "                   'Gender': gender_series})\n",
    "\n",
    "# Print the resulting DataFrame\n",
    "print(df)\n"
   ]
  },
  {
   "cell_type": "code",
   "execution_count": null,
   "id": "8fbebdbd-ccca-456a-8797-820dc4a6478c",
   "metadata": {},
   "outputs": [],
   "source": [
    "'''In this example, we created three Pandas Series for the Name, Age, and Gender of three people. We then combined these three Series into a single DataFrame using the pd.DataFrame() function. The resulting DataFrame has three columns for Name, Age, and Gender, and three rows of data. Each column of the DataFrame corresponds to a Pandas Series.'''\n"
   ]
  }
 ],
 "metadata": {
  "kernelspec": {
   "display_name": "Python 3 (ipykernel)",
   "language": "python",
   "name": "python3"
  },
  "language_info": {
   "codemirror_mode": {
    "name": "ipython",
    "version": 3
   },
   "file_extension": ".py",
   "mimetype": "text/x-python",
   "name": "python",
   "nbconvert_exporter": "python",
   "pygments_lexer": "ipython3",
   "version": "3.10.8"
  }
 },
 "nbformat": 4,
 "nbformat_minor": 5
}
