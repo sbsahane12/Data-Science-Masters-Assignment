{
 "cells": [
  {
   "cell_type": "markdown",
   "id": "e87be4d2",
   "metadata": {},
   "source": [
    "# 1. Who developed Python programming Language?\n",
    "* Ans: Python programming language was developed by Guido van Rossum. He started working on Python in December 1989, and the first version of the language was released in February 1991. Python was named after Monty Python, a British comedy group, because Guido van Rossum was a fan of the group. Over the years, Python has become one of the most popular programming languages and is widely used for a variety of purposes, including web development, scientific computing, data analysis, and more."
   ]
  },
  {
   "cell_type": "markdown",
   "id": "d8c548d6",
   "metadata": {},
   "source": [
    "# 2. Which type of programming does python support? <br/>\n",
    "* Ans: Python supports multiple programming paradigms, including Object-Oriented Programming (OOP): This allows the creation of objects and classes that can be used to model real-world entities. Imperative Programming: This involves using statements to specify a sequence of actions that the computer should perform.Functional Programming: This involves treating computation as the evaluation of mathematical functions, and is supported by Pythons built-in functional programming features like map, filter, and reduce"
   ]
  },
  {
   "cell_type": "markdown",
   "id": "0c68e626",
   "metadata": {},
   "source": [
    "# 3. Is Python case sensitive when dealing with identifiers?<br/>\n",
    "* Ans: Yes, Python is case sensitive when dealing with identifiers, such as variable names, function names, and class names. This means that the names foo, Foo, and FOO would each refer to a different identifier in the same scope.\n",
    "* It's a common practice in Python to use lowercase names with words separated by underscores for variable, function, and class names. For example:\n",
    "    * first_name = \"John\"\n",
    "    * print_message = \"Hello, World!\"\n",
    "\n",
    "    * class Employee:\n",
    "    *   pass"
   ]
  },
  {
   "cell_type": "markdown",
   "id": "836ccf7c",
   "metadata": {},
   "source": [
    "# 4. What is the correct extenstion of Python file?<br/>\n",
    "* Ans: The correct extenstion of Python file is .py"
   ]
  },
  {
   "cell_type": "markdown",
   "id": "c3c59ae1",
   "metadata": {},
   "source": [
    "# 5. Is python code compiled or interpreted?<br/>\n",
    "* Ans:Python is an interpreted language, not a compiled language. The source code is translated into an intermediate form called bytecode, which is executed by the Python interpreter. This allows for faster development and easier debugging, but can lead to slower runtime performance compared to compiled languages.\n"
   ]
  },
  {
   "cell_type": "markdown",
   "id": "89c32771",
   "metadata": {},
   "source": [
    "# 6. Name a few blocks of code used to define in python language?<br/>\n",
    "* Ans: Indentation is used to define a block of code in python.\n",
    "\n",
    "# 7. State a character used to give single-line comments in Python?<br/>\n",
    "* Ans: #\n",
    "\n",
    "# 8. Mention functions which can help us to find the version of python that we are currently working on?<br/>\n",
    "* Ans: sys. version\n",
    "\n",
    "# 9. Python supports the creation of anonymous functions at runtime, using a construct called -------- <br/>\n",
    "* Ans: lambda\n",
    "\n",
    "# 10. What does pip stand for  python? <br/>\n",
    "* Ans: Pip Installs Packages.\n",
    "\n",
    "# 11. Mention a few built-in functions in python? <br/>\n",
    "Ans: The few built-in functions in python are:\n",
    "* input()\n",
    "* print()\n",
    "* len()\n",
    "*list()\n",
    "*range()\n",
    "   \n",
    "# 12. What is the maximum possible length of an identifier in python? <br/>\n",
    "* Ans: 79 characters.\n",
    "\n",
    "# 13. What are the benefits of using Python? <br/>\n",
    "Ans:\n",
    "* Python has many benefits including:Easy to learn and use: Python has a simple and straightforward syntax which makes it easy for beginners to pick up.Versatile: Python can be used for a wide range of applications, including web development, scientific computing, data analysis, artificial intelligence, and more.Large community: Python has a large and active community, which means there is a wealth of resources available, such as libraries and frameworks.Good for prototyping: Python's short development cycle and ease of use make it a great language for quickly prototyping ideas.</li>Interoperability: Python can easily be integrated with other languages and tools, allowing it to be used as a \"glue\" language for connecting components.Good for data Science and analysis: Python has a number of powerful libraries, such as NumPy, Pandas, sklearn, opencv and Matplotlib, that make it a great choice for data Science and analysis.</\n",
    "    \n",
    "# 14. How is memory managed in Python? <br/>\n",
    "* Ans: Python uses automatic memory management, which means the Python memory manager automatically handles memory allocation and deallocation. The memory manager uses a reference counting system to track the number of references to objects in memory, and frees the memory occupied by an object when its reference count reaches zero. Additionally, Python has a garbage collector that periodically frees up memory occupied by objects that are no longer being used. This ensures that Python programs are able to efficiently use memory without the need for manual memory management.\n",
    "\n",
    "# 15. How to install Python on windows and set path variables?<br/>\n",
    "Ans: \n",
    " * Here's how you can install Python on Windows and set the path variables:\n",
    " * Download the latest version of Python from the official website (https://www.python.org/downloads/).</li>\n",
    "   Run the installer and follow the instructions to install Python on your system.</li>\n",
    "   Open the \"Environment Variables\" dialog by typing \"Environment Variables\" into the Windows     search bar and clicking on \"Edit the system environment variables.\"</li>\n",
    "\n",
    "   Under \"System Variables,\" scroll down and find the \"Path\" variable, then click \"Edit.\"</li>\n",
    "\n",
    "   Click \"New\" and add the path to your Python installation. For example, if you installed Python in the default location, the path would be \"C:\\PythonXX,\" where \"XX\" is the version number.</li>\n",
    "\n",
    "    Click \"OK\" to close all the dialog boxes.</li>\n",
    "\n",
    "    Open a new command prompt and type \"python\" to confirm that the installation was successful and that the path variables are set correctly.</li>\n",
    "    \n",
    "    Note: It may need to restart any open command prompts for the changes to take effect.\n",
    "    \n",
    "# 16. Is indentation required in python? <br/>\n",
    "* Ans: Yes, indentation is required in Python. Indentation is used to indicate the block of code associated with control structures such as loops and conditional statements. The indentation level determines the scope of the code block, and a consistent indentation style makes the code easier to read and understand. In Python, the indentation level is defined by one or more spaces at the beginning of a line. The recommended indentation level is 4 spaces, but some developers prefer 2 spaces or use tabs instead of spaces. It's important to be consistent within a single project, and most code editors can automatically handle indentation for you."
   ]
  },
  {
   "cell_type": "code",
   "execution_count": null,
   "id": "edfc5f25",
   "metadata": {},
   "outputs": [],
   "source": []
  }
 ],
 "metadata": {
  "kernelspec": {
   "display_name": "Python 3 (ipykernel)",
   "language": "python",
   "name": "python3"
  },
  "language_info": {
   "codemirror_mode": {
    "name": "ipython",
    "version": 3
   },
   "file_extension": ".py",
   "mimetype": "text/x-python",
   "name": "python",
   "nbconvert_exporter": "python",
   "pygments_lexer": "ipython3",
   "version": "3.9.12"
  }
 },
 "nbformat": 4,
 "nbformat_minor": 5
}
