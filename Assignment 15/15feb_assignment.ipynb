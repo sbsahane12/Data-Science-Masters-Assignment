{
 "cells": [
  {
   "cell_type": "code",
   "execution_count": null,
   "id": "cfc75f2a-54a8-4825-8d21-4ccae7fbaf9e",
   "metadata": {},
   "outputs": [],
   "source": [
    "#1.\n",
    "'''Multiprocessing in Python is a way of executing multiple processes or threads concurrently in a program. It allows multiple CPU cores to be used simultaneously, which can significantly improve the performance of CPU-bound tasks.\n",
    "\n",
    "The multiprocessing module in Python allows developers to create and manage child processes that can run independently of the main program. Each child process is created with its own memory space and can run different code, making it possible to distribute work across multiple processes and cores.\n",
    "\n",
    "Multiprocessing is useful for a variety of tasks, including data processing, web scraping, scientific computing, and machine learning. For example, if you need to process a large amount of data, you can split the data into multiple chunks and run the processing on each chunk in parallel. This can speed up the overall processing time, as the work is distributed across multiple cores.\n",
    "\n",
    "In addition, multiprocessing can also improve the stability and reliability of a program. If one process crashes or encounters an error, it won't affect the other processes running in the program.\n",
    "\n",
    "Overall, multiprocessing is a powerful tool for improving the performance and scalability of Python programs that need to perform CPU-bound tasks.'''\n"
   ]
  },
  {
   "cell_type": "code",
   "execution_count": null,
   "id": "85db22b3-b08e-4ac3-a8e2-dc87489db5db",
   "metadata": {},
   "outputs": [],
   "source": [
    "#2.\n",
    "'''Multiprocessing and multithreading are both methods for achieving concurrency in a program, but they differ in several ways:\n",
    "\n",
    "Execution context: In multiprocessing, each process runs in a separate memory space, and each process has its own interpreter and Python runtime. In contrast, in multithreading, all threads share the same memory space and interpreter, but have their own stack.\n",
    "\n",
    "Resource allocation: In multiprocessing, each process is allocated its own system resources, such as memory and CPU time. In multithreading, all threads share the same resources, which can lead to resource contention if not properly managed.\n",
    "\n",
    "Speed and scalability: Multiprocessing is generally faster and more scalable than multithreading, especially for CPU-bound tasks. This is because multiprocessing can take advantage of multiple CPU cores, while multithreading is limited by the global interpreter lock (GIL) in CPython, which only allows one thread to execute at a time.\n",
    "\n",
    "Inter-process communication: In multiprocessing, inter-process communication (IPC) is necessary to share data and communicate between processes. This can be more complex than sharing data between threads in multithreading, which can share data through shared memory or locks.\n",
    "\n",
    "Memory footprint: Multiprocessing can have a larger memory footprint than multithreading, as each process has its own memory space. This can be a concern if you need to run many processes simultaneously.\n",
    "\n",
    "In general, multiprocessing is a better choice for CPU-bound tasks that can be split into parallel processes, while multithreading is better for I/O-bound tasks where the threads can perform independent work. However, the choice between the two ultimately depends on the specific requirements of the task and the resources available on the system.'''\n"
   ]
  },
  {
   "cell_type": "code",
   "execution_count": 1,
   "id": "875eb035-db47-44ac-895b-90b682b382e1",
   "metadata": {},
   "outputs": [
    {
     "name": "stdout",
     "output_type": "stream",
     "text": [
      "Worker process started\n",
      "Worker process completed\n",
      "Main process completed\n"
     ]
    }
   ],
   "source": [
    "#3.\n",
    "import multiprocessing\n",
    "\n",
    "def worker():\n",
    "    \"\"\"Function run by the child process\"\"\"\n",
    "    print(\"Worker process started\")\n",
    "    # Perform some task here...\n",
    "    print(\"Worker process completed\")\n",
    "\n",
    "if __name__ == '__main__':\n",
    "    # Create a new process and start it\n",
    "    p = multiprocessing.Process(target=worker)\n",
    "    p.start()\n",
    "    # Wait for the process to finish\n",
    "    p.join()\n",
    "    print(\"Main process completed\")\n"
   ]
  },
  {
   "cell_type": "code",
   "execution_count": 3,
   "id": "235c8e3a-028b-4cb1-a4a5-391ab87c55e4",
   "metadata": {},
   "outputs": [
    {
     "name": "stdout",
     "output_type": "stream",
     "text": [
      "[1, 4, 9, 16, 25, 36, 49, 64, 81, 100]\n"
     ]
    }
   ],
   "source": [
    "#4.\n",
    "'''A multiprocessing pool in Python is a way to create a group of worker processes that can execute a function in parallel. The multiprocessing pool module allows you to create a pool of worker processes and apply a function to a large number of inputs in parallel.\n",
    "\n",
    "The main advantage of using a pool is that it allows you to take advantage of multiple processors or cores to speed up the processing of a large number of tasks. Each worker in the pool is assigned a task, and the results are collected and returned to the main process. This can significantly reduce the time it takes to complete a task, especially when working with large datasets or complex computations.\n",
    "\n",
    "Here is an example of how to use a multiprocessing pool in Python:'''\n",
    "import multiprocessing\n",
    "\n",
    "def square(x):\n",
    "    return x*x\n",
    "\n",
    "if __name__ == '__main__':\n",
    "    with multiprocessing.Pool(processes=4) as pool:\n",
    "        results = pool.map(square, [1, 2, 3, 4, 5, 6, 7, 8, 9, 10])\n",
    "        print(results)\n"
   ]
  },
  {
   "cell_type": "code",
   "execution_count": 2,
   "id": "012c2282-9131-499d-b836-28ab80bfcca0",
   "metadata": {},
   "outputs": [
    {
     "name": "stdout",
     "output_type": "stream",
     "text": [
      "Worker 1 startedWorker 2 startedWorker 0 startedWorker 3 started\n",
      "\n",
      "\n",
      "\n",
      "Worker 2 completedWorker 1 completedWorker 3 completedWorker 0 completed\n",
      "\n",
      "\n",
      "\n",
      "All worker processes have completed\n"
     ]
    }
   ],
   "source": [
    "#5.\n",
    "'''You can create a pool of worker processes in Python using the multiprocessing module. Here is an example code:'''\n",
    "import multiprocessing\n",
    "\n",
    "def worker(num):\n",
    "    \"\"\"Function that will be executed by the worker processes\"\"\"\n",
    "    print(f\"Worker {num} started\")\n",
    "    # Do some work here...\n",
    "    print(f\"Worker {num} completed\")\n",
    "\n",
    "if __name__ == '__main__':\n",
    "    # Create a pool of worker processes\n",
    "    pool = multiprocessing.Pool(processes=4)\n",
    "\n",
    "    # Assign work to the worker processes\n",
    "    for i in range(4):\n",
    "        pool.apply_async(worker, args=(i,))\n",
    "\n",
    "    # Wait for the worker processes to finish\n",
    "    pool.close()\n",
    "    pool.join()\n",
    "    print(\"All worker processes have completed\")\n"
   ]
  },
  {
   "cell_type": "code",
   "execution_count": 4,
   "id": "c850353f-648e-4062-a9ff-e822a09da121",
   "metadata": {},
   "outputs": [
    {
     "name": "stdout",
     "output_type": "stream",
     "text": [
      "Process 1: 1\n",
      "Process 2: 2\n",
      "Process 3: 3\n",
      "Process 4: 4\n",
      "All processes have completed\n"
     ]
    }
   ],
   "source": [
    "#6.\n",
    "'''an example Python program that creates 4 processes, each of which prints a different number using the multiprocessing module in Python:'''\n",
    "import multiprocessing\n",
    "\n",
    "def print_number(num):\n",
    "    \"\"\"Function run by the child processes\"\"\"\n",
    "    print(f\"Process {num}: {num}\")\n",
    "\n",
    "if __name__ == '__main__':\n",
    "    # Create a new process for each number\n",
    "    processes = []\n",
    "    for i in range(1, 5):\n",
    "        p = multiprocessing.Process(target=print_number, args=(i,))\n",
    "        processes.append(p)\n",
    "        p.start()\n",
    "\n",
    "    # Wait for all processes to finish\n",
    "    for p in processes:\n",
    "        p.join()\n",
    "\n",
    "    print(\"All processes have completed\")\n"
   ]
  },
  {
   "cell_type": "code",
   "execution_count": null,
   "id": "27233da3-266b-4796-b1dd-063abb4fefb9",
   "metadata": {},
   "outputs": [],
   "source": []
  }
 ],
 "metadata": {
  "kernelspec": {
   "display_name": "Python 3 (ipykernel)",
   "language": "python",
   "name": "python3"
  },
  "language_info": {
   "codemirror_mode": {
    "name": "ipython",
    "version": 3
   },
   "file_extension": ".py",
   "mimetype": "text/x-python",
   "name": "python",
   "nbconvert_exporter": "python",
   "pygments_lexer": "ipython3",
   "version": "3.10.8"
  }
 },
 "nbformat": 4,
 "nbformat_minor": 5
}
