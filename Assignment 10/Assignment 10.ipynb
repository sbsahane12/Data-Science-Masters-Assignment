{
 "cells": [
  {
   "cell_type": "markdown",
   "id": "6e80f952",
   "metadata": {},
   "source": [
    "***Q1, Create a vehicle class with an init method having instance variables as name_of_vehicle, max_speed \n",
    "and average_of_vehicle***"
   ]
  },
  {
   "cell_type": "code",
   "execution_count": 6,
   "id": "aaec07af",
   "metadata": {},
   "outputs": [],
   "source": [
    "class vehicle:\n",
    "    def __init__(self,name_of_vehicle, max_speed,average_of_vehicle):\n",
    "        self.name_of_vehicle=name_of_vehicle\n",
    "        self.max_speed=max_speed\n",
    "        self.average_of_vehicle=average_of_vehicle"
   ]
  },
  {
   "cell_type": "markdown",
   "id": "47b37d19",
   "metadata": {},
   "source": [
    "***Q2.  Create a child class car from the vehicle class created in Que 1, which will inherit the vehicle class. \n",
    "Create a method named seating_capacity which takes capacity as an argument and returns the name of \n",
    "the vehicle and its seating capacity***"
   ]
  },
  {
   "cell_type": "code",
   "execution_count": 14,
   "id": "e8da2a1a",
   "metadata": {},
   "outputs": [],
   "source": [
    "class car(vehicle):\n",
    "    def return_seating_capicity(self,capacity):\n",
    "        return f\"name of vehicle {self.name_of_vehicle} and seating capacity {capacity}\""
   ]
  },
  {
   "cell_type": "code",
   "execution_count": 15,
   "id": "845b185f",
   "metadata": {},
   "outputs": [],
   "source": [
    "car_obj=car(\"honda\",100,70)"
   ]
  },
  {
   "cell_type": "code",
   "execution_count": 16,
   "id": "55f86357",
   "metadata": {},
   "outputs": [
    {
     "data": {
      "text/plain": [
       "70"
      ]
     },
     "execution_count": 16,
     "metadata": {},
     "output_type": "execute_result"
    }
   ],
   "source": [
    "car_obj.average_of_vehicle"
   ]
  },
  {
   "cell_type": "code",
   "execution_count": 17,
   "id": "1a61cf33",
   "metadata": {},
   "outputs": [
    {
     "data": {
      "text/plain": [
       "100"
      ]
     },
     "execution_count": 17,
     "metadata": {},
     "output_type": "execute_result"
    }
   ],
   "source": [
    "car_obj.max_speed"
   ]
  },
  {
   "cell_type": "code",
   "execution_count": 18,
   "id": "459116fd",
   "metadata": {},
   "outputs": [
    {
     "data": {
      "text/plain": [
       "'name of vehicle :honda and seating capacity :100'"
      ]
     },
     "execution_count": 18,
     "metadata": {},
     "output_type": "execute_result"
    }
   ],
   "source": [
    "car_obj.return_seating_capicity(100)"
   ]
  },
  {
   "cell_type": "code",
   "execution_count": 19,
   "id": "3a8a53c4",
   "metadata": {},
   "outputs": [],
   "source": [
    "#3.\n",
    "'''Multiple inheritance is a feature in object-oriented programming languages where a \n",
    "single class can inherit properties and attributes from multiple parent classes. \n",
    "This means that the child class can inherit attributes and methods from multiple parent\n",
    "classes, rather than just a single parent class.\n",
    "\n",
    "Here's an example of multiple inheritance in Python:'''\n",
    "class Parent1:\n",
    "    def method1(self):\n",
    "        print(\"Method 1 of Parent 1\")\n",
    "\n",
    "class Parent2:\n",
    "    def method2(self):\n",
    "        print(\"Method 2 of Parent 2\")\n",
    "\n",
    "class Child(Parent1, Parent2):\n",
    "    def method3(self):\n",
    "        print(\"Method 3 of Child\")"
   ]
  },
  {
   "cell_type": "code",
   "execution_count": 28,
   "id": "8064de62",
   "metadata": {},
   "outputs": [],
   "source": [
    "#4.\n",
    "'''In Python, getters and setters are methods that are used to retrieve or set the value\n",
    "of an instance variable, respectively.They are used to provide controlled access to the \n",
    "instance variables, allowing you to set constraints on the values that can be assigned to\n",
    "an instance variable.\n",
    "\n",
    "Here's an example of a class with a getter and setter method:'''\n",
    "\n",
    "class Person:\n",
    "    def __init__(self, name):\n",
    "        self._name = name\n",
    "\n",
    "    def get_name(self):\n",
    "        return self._name\n",
    "\n",
    "    def set_name(self, name):\n",
    "        if (type(name)==str):\n",
    "            self._name = name\n",
    "        else:\n",
    "            print(\"Error name must be string\")"
   ]
  },
  {
   "cell_type": "code",
   "execution_count": 29,
   "id": "7af7a455",
   "metadata": {},
   "outputs": [
    {
     "data": {
      "text/plain": [
       "'sagar'"
      ]
     },
     "execution_count": 29,
     "metadata": {},
     "output_type": "execute_result"
    }
   ],
   "source": [
    "person_obj=Person(\"sagar\")\n",
    "person_obj.get_name()"
   ]
  },
  {
   "cell_type": "code",
   "execution_count": 30,
   "id": "dd9bbcdf",
   "metadata": {},
   "outputs": [],
   "source": [
    "person_obj.set_name(\"rohit\")"
   ]
  },
  {
   "cell_type": "code",
   "execution_count": 31,
   "id": "c88c19cb",
   "metadata": {},
   "outputs": [
    {
     "data": {
      "text/plain": [
       "'rohit'"
      ]
     },
     "execution_count": 31,
     "metadata": {},
     "output_type": "execute_result"
    }
   ],
   "source": [
    "person_obj.get_name()"
   ]
  },
  {
   "cell_type": "code",
   "execution_count": 32,
   "id": "951adca9",
   "metadata": {},
   "outputs": [
    {
     "name": "stdout",
     "output_type": "stream",
     "text": [
      "Error name must be string\n"
     ]
    }
   ],
   "source": [
    "person_obj.set_name(123)"
   ]
  },
  {
   "cell_type": "code",
   "execution_count": 34,
   "id": "f3801ef3",
   "metadata": {},
   "outputs": [],
   "source": [
    "#5.\n",
    "'''Method overriding is a feature in object-oriented programming languages that \n",
    "allows a child class to provide a new implementation of a methodthat is already\n",
    "defined in its parent class. The child class \"overrides\" the method in the parent \n",
    "class, and the new implementation is used when the method is called on an instance \n",
    "of the child class.\n",
    "\n",
    "Here's an example of method overriding in Python:'''\n",
    "\n",
    "\n",
    "# defining base class Employee\n",
    "class Employee:\n",
    "    def details(self):\n",
    "        print(\"method is called from Employee class\")\n",
    "        \n",
    "# Defining derived class Programmer\n",
    "class Programmer(Employee):            \n",
    "    def details(self):\n",
    "        print(\"method is called from Programmer class\")"
   ]
  },
  {
   "cell_type": "code",
   "execution_count": null,
   "id": "8127e20e",
   "metadata": {},
   "outputs": [],
   "source": [
    "Employee_Obj=Employee()"
   ]
  }
 ],
 "metadata": {
  "kernelspec": {
   "display_name": "Python 3 (ipykernel)",
   "language": "python",
   "name": "python3"
  },
  "language_info": {
   "codemirror_mode": {
    "name": "ipython",
    "version": 3
   },
   "file_extension": ".py",
   "mimetype": "text/x-python",
   "name": "python",
   "nbconvert_exporter": "python",
   "pygments_lexer": "ipython3",
   "version": "3.9.12"
  }
 },
 "nbformat": 4,
 "nbformat_minor": 5
}
