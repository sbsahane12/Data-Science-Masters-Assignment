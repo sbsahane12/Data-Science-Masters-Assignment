{
 "cells": [
  {
   "cell_type": "code",
   "execution_count": null,
   "id": "ac6748dd-e95f-460f-9959-75e1739bd371",
   "metadata": {},
   "outputs": [],
   "source": [
    "#1.\n",
    "'''GET and POST are two HTTP request methods used to send data from a client (e.g. a web browser) to a server.\n",
    "\n",
    "The GET method is used to retrieve data from the server. When a client sends a GET request to a server, the server responds with a representation of the requested resource. The data in a GET request is sent in the URL as query parameters, and can be seen in the address bar of a web browser.\n",
    "\n",
    "The POST method is used to submit data to a server to create or update a resource. When a client sends a POST request to a server, the data is sent in the body of the request rather than in the URL, which allows for larger and more complex data to be sent.''\n"
   ]
  },
  {
   "cell_type": "code",
   "execution_count": null,
   "id": "3f3bb4cd-5069-4d5d-b258-d737aac9bf53",
   "metadata": {},
   "outputs": [],
   "source": [
    "#2.\n",
    "'''In Flask, request is used to handle incoming requests from clients, such as web browsers, and to access information contained in those requests.\n",
    "\n",
    "When a client sends a request to a Flask application, the request object is automatically created by Flask and populated with information about the request, including its method (GET, POST, etc.), headers, form data, cookies, and other relevant information.\n",
    "\n",
    "request provides a way to access this information within the Flask application's view functions, which are responsible for handling the request and generating a response. By using request, a Flask application can determine how to handle a request based on its method, access data submitted by the client through forms, and set cookies or other response headers.\n",
    "\n",
    "For example, a Flask application might use request to determine whether a user is submitting a login form with valid credentials, or to retrieve data from a database based on parameters passed in the request.\n",
    "\n",
    "In short, request is an essential component of Flask that enables developers to handle incoming requests and access the information they contain.'''\n"
   ]
  },
  {
   "cell_type": "code",
   "execution_count": null,
   "id": "701872e3-f7b9-4301-bfab-0eae5be771dd",
   "metadata": {},
   "outputs": [],
   "source": [
    "#3.\n",
    "'''In Flask, the redirect() function is used to redirect the client to a different URL. This is often useful in web applications when a user needs to be redirected after completing an action, such as submitting a form or logging in.\n",
    "\n",
    "When a Flask application returns a redirect response using redirect(), the client's browser receives an HTTP response with a \"302 Found\" status code and a \"Location\" header that specifies the URL to redirect to. The browser then automatically navigates to the specified URL, causing the server to receive a new request.\n",
    "\n",
    "The redirect() function can take a URL as an argument, or it can take a route name and any arguments needed to generate the URL dynamically. For example, if a Flask application has a route named home, and the URL for that route is /, the following code would redirect the client to the home page:''\n"
   ]
  },
  {
   "cell_type": "code",
   "execution_count": null,
   "id": "9e494f79-35e2-46d8-9d10-7386fc6e74e4",
   "metadata": {},
   "outputs": [],
   "source": [
    "#4.\n",
    "'''In Flask, templates are files that define the structure and layout of dynamic HTML pages that are rendered by the application. Templates are used to separate the presentation of a web page from its content, and allow web designers and developers to work independently on different aspects of a web application.\n",
    "\n",
    "Flask supports the Jinja2 template engine, which is a modern and powerful engine that allows developers to easily create templates using a combination of HTML, CSS, and Jinja2 template syntax.\n",
    "\n",
    "The render_template() function is used in Flask to render a template and generate an HTML response. This function takes the name of a template file, along with any data that needs to be passed to the template, and returns a rendered HTML response.''\n"
   ]
  },
  {
   "cell_type": "code",
   "execution_count": null,
   "id": "d502ee77-a5ac-4ea3-898b-a24c846e660c",
   "metadata": {},
   "outputs": [],
   "source": [
    "#5.\n",
    "'''\n",
    "from flask import Flask, jsonify\n",
    "\n",
    "app = Flask(__name__)\n",
    "\n",
    "books = [\n",
    "    {'title': 'The Great Gatsby', 'author': 'F. Scott Fitzgerald'},\n",
    "    {'title': 'To Kill a Mockingbird', 'author': 'Harper Lee'},\n",
    "    {'title': 'One Hundred Years of Solitude', 'author': 'Gabriel García Márquez'}\n",
    "]\n",
    "\n",
    "@app.route('/books', methods=['GET'])\n",
    "def get_books():\n",
    "    return jsonify(books)\n",
    "\n",
    "if __name__ == '__main__':\n",
    "    app.run(debug=True)\n",
    "\n",
    "'''"
   ]
  },
  {
   "cell_type": "markdown",
   "id": "e87f1094-c2a8-4f85-a608-5acef239b491",
   "metadata": {},
   "source": [
    "<img src=\"simple_api.png\"/>"
   ]
  },
  {
   "cell_type": "code",
   "execution_count": null,
   "id": "c581e201-92a9-47a4-ada0-419e2b11fe98",
   "metadata": {},
   "outputs": [],
   "source": []
  }
 ],
 "metadata": {
  "kernelspec": {
   "display_name": "Python 3 (ipykernel)",
   "language": "python",
   "name": "python3"
  },
  "language_info": {
   "codemirror_mode": {
    "name": "ipython",
    "version": 3
   },
   "file_extension": ".py",
   "mimetype": "text/x-python",
   "name": "python",
   "nbconvert_exporter": "python",
   "pygments_lexer": "ipython3",
   "version": "3.10.8"
  }
 },
 "nbformat": 4,
 "nbformat_minor": 5
}
