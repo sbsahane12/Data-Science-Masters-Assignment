{
 "cells": [
  {
   "cell_type": "code",
   "execution_count": null,
   "id": "a3803313-e2ee-4a2f-9619-0cbc90a3fdf0",
   "metadata": {},
   "outputs": [],
   "source": [
    "#1.\n",
    "'''Multithreading in Python is the ability of a program to perform multiple threads of execution concurrently, allowing different parts of the program to run in parallel. It is used to improve the performance of applications that can benefit from running multiple tasks concurrently.\n",
    "\n",
    "The threading module is used to handle threads in Python. It provides a simple way to create and manage threads, and allows threads to communicate with each other through shared data structures.'''\n"
   ]
  },
  {
   "cell_type": "code",
   "execution_count": null,
   "id": "e28d160e-924a-4eaf-a7de-3c2ff2a5ec32",
   "metadata": {},
   "outputs": [],
   "source": [
    "#2.\n",
    "'''The threading module in Python is used for creating and managing threads in a multithreaded program. Some of the key functions provided by the threading module include:\n",
    "\n",
    "activeCount(): This function returns the number of currently active threads in the program, including the main thread.\n",
    "\n",
    "currentThread(): This function returns a reference to the currently executing thread.\n",
    "\n",
    "enumerate(): This function returns a list of all currently active threads in the program.'''"
   ]
  },
  {
   "cell_type": "code",
   "execution_count": null,
   "id": "75639bf3-9e9f-4317-a283-3e96d324c82d",
   "metadata": {},
   "outputs": [],
   "source": [
    "#3.\n",
    "'''Here are the explanations of the following functions in the threading module:\n",
    "\n",
    "run(): This method is the entry point for a thread. It is called when the thread is started and it contains the code that will be executed in the thread.\n",
    "\n",
    "start(): This method is used to start a thread that has been created. It will call the run() method in a new thread of execution.\n",
    "\n",
    "join(): This method is used to wait for a thread to complete its execution. It blocks the calling thread until the target thread has finished.\n",
    "\n",
    "isAlive(): This method is used to check whether a thread is still running. It returns True if the thread is currently executing, and False otherwise.'''\n"
   ]
  },
  {
   "cell_type": "code",
   "execution_count": null,
   "id": "451fdc20-b439-4acf-8863-4a8e75ae4475",
   "metadata": {},
   "outputs": [],
   "source": [
    "#4.\n",
    "#Python program that creates two threads. The first thread prints a list of squares and the second thread prints a list of cubes.\n",
    "import threading\n",
    "\n",
    "def print_squares():\n",
    "    for i in range(1, 11):\n",
    "        print(i ** 2)\n",
    "\n",
    "def print_cubes():\n",
    "    for i in range(1, 11):\n",
    "        print(i ** 3)\n",
    "\n",
    "t1 = threading.Thread(target=print_squares)\n",
    "t2 = threading.Thread(target=print_cubes)\n",
    "\n",
    "t1.start()\n",
    "t2.start()\n",
    "\n",
    "t1.join()\n",
    "t2.join()\n",
    "\n",
    "print(\"Done!\")\n"
   ]
  },
  {
   "cell_type": "code",
   "execution_count": null,
   "id": "72bb8f98-ecba-4772-be0c-349b064c4910",
   "metadata": {},
   "outputs": [],
   "source": [
    "#5.\n",
    "'''Multithreading is a technique of executing multiple threads concurrently in a single program. Here are some advantages and disadvantages of using multithreading:\n",
    "\n",
    "Advantages:\n",
    "\n",
    "Increased performance: Multithreading can improve the performance of a program by allowing multiple tasks to be executed concurrently, thereby reducing the overall execution time.\n",
    "\n",
    "Better resource utilization: Multithreading allows better utilization of resources such as CPU time and memory, by allowing multiple threads to run simultaneously.\n",
    "\n",
    "Improved responsiveness: Multithreading can improve the responsiveness of a program by allowing some tasks to continue running while others are blocked, which can reduce the overall perceived latency of the program.\n",
    "\n",
    "Simpler program design: Multithreading can simplify the design of complex programs by allowing different tasks to be broken down into smaller, more manageable pieces that can be executed concurrently.\n",
    "\n",
    "Disadvantages:\n",
    "\n",
    "Complexity: Multithreading can make a program more complex and difficult to design, implement, and debug.\n",
    "\n",
    "Increased overhead: Multithreading can add additional overhead to a program, as there is overhead associated with thread creation, synchronization, and communication.\n",
    "\n",
    "Synchronization issues: Multithreading can introduce synchronization issues such as race conditions, deadlocks, and livelocks that can be difficult to diagnose and resolve.\n",
    "\n",
    "Debugging: Debugging multithreaded programs can be more challenging than debugging single-threaded programs, as the behavior of a program can be influenced by the timing and order of thread execution.'''\n"
   ]
  },
  {
   "cell_type": "code",
   "execution_count": null,
   "id": "91a773b7-f8e2-48ed-a2ac-f696b0c22371",
   "metadata": {},
   "outputs": [],
   "source": [
    "#6.\n",
    "'''Deadlocks and race conditions are two common synchronization problems that can occur in multithreaded programs.\n",
    "\n",
    "Deadlocks:\n",
    "A deadlock occurs when two or more threads are waiting for each other to release a resource that they have acquired, resulting in a situation where none of the threads can make progress. Deadlocks can occur when multiple threads need exclusive access to a shared resource, such as a database or a file, and they are not released in a timely manner.\n",
    "For example, consider two threads, Thread A and Thread B, each of which holds a lock on a resource that the other thread needs. If Thread A waits for Thread B to release its lock, while Thread B waits for Thread A to release its lock, then a deadlock will occur, and the program will hang.\n",
    "\n",
    "Race conditions:\n",
    "A race condition occurs when the output of a program depends on the order and timing of the execution of multiple threads, resulting in unpredictable behavior. Race conditions can occur when two or more threads access and modify the same shared resource without proper synchronization.\n",
    "For example, consider two threads, Thread A and Thread B, that both access and modify a shared variable. If Thread A reads the variable, modifies it, and writes it back, while Thread B does the same thing simultaneously, then the final value of the variable will depend on the order and timing of the two threads. This can result in unpredictable behavior, such as incorrect results or program crashes.\n",
    "\n",
    "To prevent deadlocks and race conditions, it is important to use proper synchronization techniques such as locks, semaphores, and monitors, and to ensure that shared resources are accessed in a mutually exclusive and synchronized manner.'''\n"
   ]
  }
 ],
 "metadata": {
  "kernelspec": {
   "display_name": "Python 3 (ipykernel)",
   "language": "python",
   "name": "python3"
  },
  "language_info": {
   "codemirror_mode": {
    "name": "ipython",
    "version": 3
   },
   "file_extension": ".py",
   "mimetype": "text/x-python",
   "name": "python",
   "nbconvert_exporter": "python",
   "pygments_lexer": "ipython3",
   "version": "3.10.8"
  }
 },
 "nbformat": 4,
 "nbformat_minor": 5
}
