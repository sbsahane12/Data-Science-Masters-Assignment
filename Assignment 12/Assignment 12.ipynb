{
 "cells": [
  {
   "cell_type": "code",
   "execution_count": 1,
   "id": "ce8a4cf0",
   "metadata": {},
   "outputs": [
    {
     "data": {
      "text/plain": [
       "\"An Exception in Python is an event that occurs during the execution of a program that disrupts the normal flow of instructions. It indicates that something went wrong and can be handled using a try-except block. Exceptions are used to alert the programmer to a problem that needs to be resolved, such as a missing file, a division by zero, or invalid user input.\\nThe difference between exceptions and syntax errors is that syntax errors occur when the Python interpreter encounters a line of code that it doesn't understand because it doesn't conform to the rules of the Python language. Syntax errors prevent a program from running and usually occur because of a typo or a missing colon, for example.On the other hand, exceptions are raised during the execution of a program and are a result of a runtime error. Unlike syntax errors, exceptions can be handled by the program and do not prevent the program from running.For example, consider the following code:\""
      ]
     },
     "execution_count": 1,
     "metadata": {},
     "output_type": "execute_result"
    }
   ],
   "source": [
    "#1.\n",
    "'''An Exception in Python is an event that occurs during the execution of a program that disrupts the normal flow of instructions. It indicates that something went wrong and can be handled using a try-except block. Exceptions are used to alert the programmer to a problem that needs to be resolved, such as a missing file, a division by zero, or invalid user input.\n",
    "The difference between exceptions and syntax errors is that syntax errors occur when the Python interpreter encounters a line of code that it doesn't understand because it doesn't conform to the rules of the Python language. Syntax errors prevent a program from running and usually occur because of a typo or a missing colon, for example.On the other hand, exceptions are raised during the execution of a program and are a result of a runtime error. Unlike syntax errors, exceptions can be handled by the program and do not prevent the program from running.For example, consider the following code:'''"
   ]
  },
  {
   "cell_type": "code",
   "execution_count": 2,
   "id": "3adc3c13",
   "metadata": {},
   "outputs": [
    {
     "ename": "ZeroDivisionError",
     "evalue": "division by zero",
     "output_type": "error",
     "traceback": [
      "\u001b[1;31m---------------------------------------------------------------------------\u001b[0m",
      "\u001b[1;31mZeroDivisionError\u001b[0m                         Traceback (most recent call last)",
      "Input \u001b[1;32mIn [2]\u001b[0m, in \u001b[0;36m<cell line: 7>\u001b[1;34m()\u001b[0m\n\u001b[0;32m      5\u001b[0m a \u001b[38;5;241m=\u001b[39m \u001b[38;5;241m10\u001b[39m\n\u001b[0;32m      6\u001b[0m b \u001b[38;5;241m=\u001b[39m \u001b[38;5;241m0\u001b[39m\n\u001b[1;32m----> 7\u001b[0m c \u001b[38;5;241m=\u001b[39m \u001b[43ma\u001b[49m\u001b[43m \u001b[49m\u001b[38;5;241;43m/\u001b[39;49m\u001b[43m \u001b[49m\u001b[43mb\u001b[49m\n\u001b[0;32m      8\u001b[0m \u001b[38;5;28mprint\u001b[39m(c)\n",
      "\u001b[1;31mZeroDivisionError\u001b[0m: division by zero"
     ]
    }
   ],
   "source": [
    "#2.\n",
    "'''When an exception is not handled in Python, it causes the program to terminate abnormally and raise an error message. This error message contains information about the type of the exception and the traceback of the error, which helps in identifying the cause of the exception.\n",
    "\n",
    "For example, let's say you have a code that divides two numbers, but you do not handle the ZeroDivisionError exception, which occurs when you try to divide by zero.'''\n",
    "a = 10\n",
    "b = 0\n",
    "c = a / b\n",
    "print(c)\n",
    "#When you run this code, you get the following error: Zero division error"
   ]
  },
  {
   "cell_type": "code",
   "execution_count": 3,
   "id": "9785b306",
   "metadata": {},
   "outputs": [
    {
     "name": "stdout",
     "output_type": "stream",
     "text": [
      "Error: Division by zero\n"
     ]
    },
    {
     "data": {
      "text/plain": [
       "'In this example, the try block contains the code that might raise an exception. The except block is used to handle the exception if it occurs. In this case, the exception being handled is ZeroDivisionError, which is raised when you try to divide by zero. If this exception occurs, the code inside the except block will be executed, and the error message \"Error: Division by zero\" will be displayed.\\n\\nIt is possible to have multiple except blocks for different exceptions in a single try statement this allows you to handle different exceptions in different ways'"
      ]
     },
     "execution_count": 3,
     "metadata": {},
     "output_type": "execute_result"
    }
   ],
   "source": [
    "#3.\n",
    "'''The try and except statements in Python are used to catch and handle exceptions. The try statement is used to define a block of code that might raise an exception, while the except statement is used to handle the exception if it occurs.\n",
    "\n",
    "Here is an example:'''\n",
    "try:\n",
    "    a = 10\n",
    "    b = 0\n",
    "    c = a / b\n",
    "    print(c)\n",
    "except ZeroDivisionError:\n",
    "    print(\"Error: Division by zero\")\n",
    "\n",
    "'''In this example, the try block contains the code that might raise an exception. The except block is used to handle the exception if it occurs. In this case, the exception being handled is ZeroDivisionError, which is raised when you try to divide by zero. If this exception occurs, the code inside the except block will be executed, and the error message \"Error: Division by zero\" will be displayed.\n",
    "\n",
    "It is possible to have multiple except blocks for different exceptions in a single try statement this allows you to handle different exceptions in different ways'''"
   ]
  },
  {
   "cell_type": "code",
   "execution_count": 5,
   "id": "7e5c67a3",
   "metadata": {},
   "outputs": [
    {
     "name": "stdout",
     "output_type": "stream",
     "text": [
      "Enter a number: 12\n",
      "Enter another number: 3\n",
      "The result is:  4\n"
     ]
    }
   ],
   "source": [
    "#4.\n",
    "'''The try and except statements in Python are used to catch and handle exceptions. They allow you to handle errors and exceptions that occur during the execution of a program. The basic structure of the try and except statement is as follows:'''\n",
    "try:\n",
    "    a = int(input(\"Enter a number: \"))\n",
    "    b = int(input(\"Enter another number: \"))\n",
    "    c = a/b\n",
    "    print(\"The result is: \", int(c))\n",
    "except ZeroDivisionError:\n",
    "    print(\"The second number cannot be zero.\")"
   ]
  },
  {
   "cell_type": "code",
   "execution_count": 6,
   "id": "573d0151",
   "metadata": {},
   "outputs": [
    {
     "name": "stdout",
     "output_type": "stream",
     "text": [
      "Enter a number: 344\n",
      "Enter another number: 344\n",
      "The result is:  1\n",
      "No exceptions were raised.\n"
     ]
    }
   ],
   "source": [
    "'''The else statement in Python can be used along with the try and except statement. The code block inside the else statement is executed only if there are no exceptions raised in the try block.\n",
    "\n",
    "An example to demonstrate the try, except and else statement:'''\n",
    "try:\n",
    "    a = int(input(\"Enter a number: \"))\n",
    "    b = int(input(\"Enter another number: \"))\n",
    "    c = a/b\n",
    "    print(\"The result is: \", int(c))\n",
    "except ZeroDivisionError:\n",
    "    print(\"The second number cannot be zero.\")\n",
    "else:\n",
    "    print(\"No exceptions were raised.\")"
   ]
  },
  {
   "cell_type": "code",
   "execution_count": 7,
   "id": "56257cd0",
   "metadata": {},
   "outputs": [
    {
     "name": "stdout",
     "output_type": "stream",
     "text": [
      "Enter a number: 23\n",
      "Enter another number: 223\n",
      "The result is:  0\n",
      "This code will always be executed.\n"
     ]
    }
   ],
   "source": [
    "'''The finally statement in Python can be used along with the try and except statement. The code block inside the finally statement is always executed, regardless of whether an exception was raised or not.\n",
    "\n",
    "An example to demonstrate the try, except and finally statement:'''\n",
    "try:\n",
    "    a = int(input(\"Enter a number: \"))\n",
    "    b = int(input(\"Enter another number: \"))\n",
    "    c = a/b\n",
    "    print(\"The result is: \",int(c))\n",
    "except ZeroDivisionError:\n",
    "    print(\"The second number cannot be zero.\")\n",
    "finally:\n",
    "    print(\"This code will always be executed.\")"
   ]
  },
  {
   "cell_type": "code",
   "execution_count": 8,
   "id": "72d6afcb",
   "metadata": {},
   "outputs": [
    {
     "name": "stdout",
     "output_type": "stream",
     "text": [
      "Enter your age: 23\n",
      "23\n"
     ]
    }
   ],
   "source": [
    "#5.\n",
    "'''The raise statement in Python is used to raise an exception. You can raise an exception with the raise statement and provide an optional error message.\n",
    "\n",
    "An example to demonstrate the raise statement:'''\n",
    "def check_age(age):\n",
    "    if age < 0:\n",
    "        raise ValueError(\"Age must be 0 or above.\")\n",
    "    elif age >= 200:\n",
    "        raise ValueError(\"Age must be 200 or less.\")\n",
    "    else:\n",
    "        print(age)\n",
    "        \n",
    "try:\n",
    "    age = int(input(\"Enter your age: \"))\n",
    "    check_age(age)\n",
    "except ValueError as error:\n",
    "    print(error)"
   ]
  },
  {
   "cell_type": "code",
   "execution_count": 9,
   "id": "6e31aaec",
   "metadata": {},
   "outputs": [
    {
     "name": "stdout",
     "output_type": "stream",
     "text": [
      "Enter the price of car : 34\n",
      "Price to small to purchase a car\n"
     ]
    }
   ],
   "source": [
    "'''Custom exceptions in Python are user-defined exceptions. They are created by inheriting the built-in Exception class or any of its subclasses'''\n",
    "class car_price(Exception):\n",
    "    def __init__(self,price):\n",
    "        self.price=price\n",
    "\n",
    "def cheak_car_price(price):\n",
    "    if price<0:\n",
    "        raise car_price(\"Please Enter A Correct Price?\")\n",
    "    elif price<10000:\n",
    "        raise car_price(\"Price to small to purchase a car\")\n",
    "    else:\n",
    "        print(car_price(\"Correct Price\"))\n",
    "\n",
    "try:\n",
    "    price=int(input(\"Enter the price of car : \"))\n",
    "    cheak_car_price(price)\n",
    "except car_price as e:\n",
    "    print(e)"
   ]
  },
  {
   "cell_type": "code",
   "execution_count": 10,
   "id": "b043ff30",
   "metadata": {},
   "outputs": [
    {
     "name": "stdout",
     "output_type": "stream",
     "text": [
      "Caught the custom exception: This is a custom exception\n"
     ]
    }
   ],
   "source": [
    "#6.\n",
    "#Here's an example of creating a custom exception class in Python:\n",
    "class CustomExcep(Exception):\n",
    "    def __init__(self, message):\n",
    "        self.message = message\n",
    "try:\n",
    "    raise CustomExcep(\"This is a custom exception\")\n",
    "except CustomExcep as e:\n",
    "    print(\"Caught the custom exception:\", e)"
   ]
  },
  {
   "cell_type": "code",
   "execution_count": null,
   "id": "6d5e8ade",
   "metadata": {},
   "outputs": [],
   "source": []
  }
 ],
 "metadata": {
  "kernelspec": {
   "display_name": "Python 3 (ipykernel)",
   "language": "python",
   "name": "python3"
  },
  "language_info": {
   "codemirror_mode": {
    "name": "ipython",
    "version": 3
   },
   "file_extension": ".py",
   "mimetype": "text/x-python",
   "name": "python",
   "nbconvert_exporter": "python",
   "pygments_lexer": "ipython3",
   "version": "3.9.12"
  }
 },
 "nbformat": 4,
 "nbformat_minor": 5
}
