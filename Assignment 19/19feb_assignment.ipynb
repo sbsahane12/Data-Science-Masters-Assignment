{
 "cells": [
  {
   "cell_type": "code",
   "execution_count": null,
   "id": "d1d6ed05-e20b-45fd-9610-2072facb3d39",
   "metadata": {},
   "outputs": [],
   "source": [
    "#1.\n",
    "'''Flask is a popular Python web framework used for building web applications. It is a lightweight framework and is designed to be easy to use and flexible. Flask is open-source and is maintained by a community of developers.\n",
    "\n",
    "Advantages of Flask Framework:\n",
    "\n",
    "Easy to use: Flask is a simple and easy-to-use framework. It has a small codebase and is easy to understand and use.\n",
    "\n",
    "Lightweight: Flask is a lightweight framework and has a small footprint. It does not come with any unnecessary features or dependencies, making it easy to deploy and scale.\n",
    "\n",
    "Flexible: Flask is highly flexible and can be customized to meet the needs of different web applications. It allows developers to add or remove features as needed.\n",
    "\n",
    "Extensible: Flask is highly extensible and has a large number of extensions available. These extensions can be used to add features such as authentication, database integration, and more.\n",
    "\n",
    "Large Community: Flask has a large and active community of developers. This means that there are many resources available for learning and troubleshooting, as well as a large number of third-party extensions and plugins.\n",
    "\n",
    "Integrated Testing: Flask provides built-in testing support, which allows developers to easily test their applications and ensure that they are working as expected.\n",
    "\n",
    "Overall, Flask is a great choice for developers who want a flexible and lightweight web framework that is easy to use and customize.'''\n"
   ]
  },
  {
   "cell_type": "code",
   "execution_count": null,
   "id": "ac83e727-b70d-4a61-a242-98d3b00ff0f1",
   "metadata": {},
   "outputs": [],
   "source": [
    "#2."
   ]
  },
  {
   "cell_type": "markdown",
   "id": "c45c61ce-4021-4188-8ff7-7afa157347bb",
   "metadata": {},
   "source": [
    "<img src=\"flask.png\"/>"
   ]
  },
  {
   "cell_type": "markdown",
   "id": "4c59e0d1-c0e2-44ca-bedf-e0c17498a248",
   "metadata": {},
   "source": [
    "#3.\n",
    "'''In Flask, app routing refers to the process of mapping URLs to view functions that generate responses. App routing is typically done using the @app.route decorator in Flask.\n",
    "\n",
    "When a user visits a URL, Flask maps that URL to the appropriate view function and generates a response that is sent back to the user's browser. The view function can perform any necessary logic, such as querying a database or processing form data, and then generate an appropriate response, such as an HTML page or a JSON object.\n",
    "\n",
    "We use app routes in Flask to create a structured URL map for our web application. This makes it easy to organize our application into different views, each of which handles a specific URL or group of URLs. App routes also allow us to define the HTTP methods that are allowed for each view, such as GET, POST, PUT, DELETE, and others.\n",
    "\n",
    "App routing in Flask is a powerful feature that allows us to create complex web applications with a well-organized URL structure. By using app routes, we can create a clear and logical organization for our application, making it easier to understand and maintain over time.'''\n"
   ]
  },
  {
   "cell_type": "code",
   "execution_count": null,
   "id": "e8834384-9287-4db3-924d-29820f7f8a63",
   "metadata": {},
   "outputs": [],
   "source": [
    "#4."
   ]
  },
  {
   "cell_type": "markdown",
   "id": "adfb83d0-ab84-4144-9df5-d41c362b30dc",
   "metadata": {},
   "source": [
    "<img src=\"s19-3.png\"/>"
   ]
  },
  {
   "cell_type": "markdown",
   "id": "dba3d9af-b288-4457-8c00-f6d2206b4b59",
   "metadata": {},
   "source": [
    "<img src=\"s19-1.png\"/>"
   ]
  },
  {
   "cell_type": "markdown",
   "id": "a615ac22-fbbe-44f5-8d61-e9665c2168ae",
   "metadata": {},
   "source": [
    "<img src=\"s19-2.png\"/>"
   ]
  },
  {
   "cell_type": "code",
   "execution_count": null,
   "id": "ac7603bb-9934-4dac-9af3-4e5ac9e0f213",
   "metadata": {},
   "outputs": [],
   "source": [
    "#5.\n",
    "'''The url_for() function is used in Flask for URL building. It generates a URL to a specific function based on the endpoint name and any arguments provided. The endpoint name is typically the name of the function that is decorated with @app.route.\n",
    "\n",
    "Here's an example code that demonstrates how the url_for() function works:'''"
   ]
  },
  {
   "cell_type": "code",
   "execution_count": null,
   "id": "c1218d4f-50c3-4fe0-81a1-4d8f15da8359",
   "metadata": {},
   "outputs": [],
   "source": [
    "'''\n",
    "from flask import Flask, url_for\n",
    "\n",
    "app = Flask(__name__)\n",
    "\n",
    "@app.route('/')\n",
    "def home():\n",
    "    return 'This is the home page'\n",
    "\n",
    "@app.route('/about')\n",
    "def about():\n",
    "    return 'This is the about page'\n",
    "\n",
    "@app.route('/user/<name>')\n",
    "def user(name):\n",
    "    return f'This is the user page for {name}'\n",
    "\n",
    "if __name__ == '__main__':\n",
    "    with app.test_request_context():\n",
    "        print(url_for('home'))  # Output: /\n",
    "        print(url_for('about'))  # Output: /about\n",
    "        print(url_for('user', name='John Doe'))  # Output: /user/John%20Doe\n",
    "'''"
   ]
  }
 ],
 "metadata": {
  "kernelspec": {
   "display_name": "Python 3 (ipykernel)",
   "language": "python",
   "name": "python3"
  },
  "language_info": {
   "codemirror_mode": {
    "name": "ipython",
    "version": 3
   },
   "file_extension": ".py",
   "mimetype": "text/x-python",
   "name": "python",
   "nbconvert_exporter": "python",
   "pygments_lexer": "ipython3",
   "version": "3.10.8"
  }
 },
 "nbformat": 4,
 "nbformat_minor": 5
}
